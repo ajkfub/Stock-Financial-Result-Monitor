{
 "cells": [
  {
   "cell_type": "code",
   "execution_count": 99,
   "metadata": {},
   "outputs": [
    {
     "name": "stdout",
     "output_type": "stream",
     "text": [
      "Checking Stock 00001\n",
      "\n",
      "Stock 00001 date : 2021-08-05\n",
      "Toda's date : 2021-11-02\n",
      "Nothing changed in Stock 00001\n",
      "\n",
      "Checking Stock 00002\n",
      "\n",
      "Stock 00002 date : 2021-10-04\n",
      "Toda's date : 2021-11-02\n",
      "Nothing changed in Stock 00002\n",
      "\n"
     ]
    },
    {
     "ename": "KeyboardInterrupt",
     "evalue": "",
     "output_type": "error",
     "traceback": [
      "\u001b[1;31m---------------------------------------------------------------------------\u001b[0m",
      "\u001b[1;31mKeyboardInterrupt\u001b[0m                         Traceback (most recent call last)",
      "\u001b[1;32m<ipython-input-99-7ee165feb83c>\u001b[0m in \u001b[0;36m<module>\u001b[1;34m\u001b[0m\n\u001b[0;32m     32\u001b[0m                     \u001b[0mprint\u001b[0m\u001b[1;33m(\u001b[0m\u001b[1;34m\"Toda's date : \"\u001b[0m \u001b[1;33m+\u001b[0m \u001b[0mstr\u001b[0m\u001b[1;33m(\u001b[0m\u001b[0mdatetime\u001b[0m\u001b[1;33m.\u001b[0m\u001b[0mtoday\u001b[0m\u001b[1;33m(\u001b[0m\u001b[1;33m)\u001b[0m\u001b[1;33m.\u001b[0m\u001b[0mdate\u001b[0m\u001b[1;33m(\u001b[0m\u001b[1;33m)\u001b[0m\u001b[1;33m)\u001b[0m\u001b[1;33m)\u001b[0m\u001b[1;33m\u001b[0m\u001b[1;33m\u001b[0m\u001b[0m\n\u001b[0;32m     33\u001b[0m                     \u001b[0mprint\u001b[0m\u001b[1;33m(\u001b[0m\u001b[1;34m\"Nothing changed in Stock \"\u001b[0m \u001b[1;33m+\u001b[0m \u001b[0mStocks\u001b[0m\u001b[1;33m[\u001b[0m\u001b[0mi\u001b[0m\u001b[1;33m]\u001b[0m \u001b[1;33m+\u001b[0m\u001b[1;34m\"\\n\"\u001b[0m\u001b[1;33m)\u001b[0m\u001b[1;33m\u001b[0m\u001b[1;33m\u001b[0m\u001b[0m\n\u001b[1;32m---> 34\u001b[1;33m                     \u001b[0mtime\u001b[0m\u001b[1;33m.\u001b[0m\u001b[0msleep\u001b[0m\u001b[1;33m(\u001b[0m\u001b[1;36m10\u001b[0m\u001b[1;33m)\u001b[0m\u001b[1;33m\u001b[0m\u001b[1;33m\u001b[0m\u001b[0m\n\u001b[0m\u001b[0;32m     35\u001b[0m                     \u001b[1;32mcontinue\u001b[0m\u001b[1;33m\u001b[0m\u001b[1;33m\u001b[0m\u001b[0m\n\u001b[0;32m     36\u001b[0m                 \u001b[1;32melse\u001b[0m\u001b[1;33m:\u001b[0m\u001b[1;33m\u001b[0m\u001b[1;33m\u001b[0m\u001b[0m\n",
      "\u001b[1;31mKeyboardInterrupt\u001b[0m: "
     ]
    }
   ],
   "source": [
    "# Importing libraries\n",
    "import smtplib\n",
    "from email.mime.multipart import MIMEMultipart\n",
    "from email.mime.text import MIMEText\n",
    "import time\n",
    "from datetime import date\n",
    "from datetime import datetime\n",
    "import hashlib\n",
    "import requests\n",
    "from bs4 import BeautifulSoup\n",
    "\n",
    "Stocks = [\"00001\",\"00002\",\"00003\",\"00004\",\"00005\"] #Stocks that you want to keep monitor\n",
    "Stock_Changed= [] #Stocks that have already sent the email notification\n",
    "content = MIMEMultipart() \n",
    "content[\"subject\"] = \"Financial Result Announcement\"  #Email Subject\n",
    "content[\"from\"] = \"Please Fill in the Sender Email Address\"  #Sender\n",
    "content[\"to\"] = \"Please Fill in the Receiver Email Address\" #Receiver\n",
    "while True:\n",
    "    for i in range(len(Stocks)):\n",
    "        if Stocks[i] not in Stock_Changed:\n",
    "            #Get the link \n",
    "            response = requests.get(\"http://www.aastocks.com/en/stocks/analysis/stock-aafn/\" + Stocks[i] + \"/0/result-announcement/1/\")\n",
    "            soup = BeautifulSoup(response.text, 'html.parser')\n",
    "            #Find the Date and the link of the news\n",
    "            Stock_Link = soup.find(id=\"cp_ucAAFNSearch_repNews_lnkNews_0\").get(\"href\")\n",
    "            Date = soup.find(class_=\"newstime4\")\n",
    "            Website_Date = datetime.strptime(Date.prettify().split(\"\\n\")[2][2:], '%Y/%m/%d %H:%M')\n",
    "            print(\"Checking Stock \" + Stocks[i] +\"\\n\" )\n",
    "            try:\n",
    "                if datetime.today().date() != Website_Date:\n",
    "                    print(\"Stock \" + Stocks[i] + \" date : \" + str(Website_Date.date()))\n",
    "                    print(\"Toda's date : \" + str(datetime.today().date()))\n",
    "                    print(\"Nothing changed in Stock \" + Stocks[i] +\"\\n\")\n",
    "                    time.sleep(10)\n",
    "                    continue\n",
    "                else:\n",
    "                    print(\"Something changed in Stock \" + Stocks[i] +\"\\n\")\n",
    "                    content.attach(MIMEText(\"Hi,\\n\\n\" + \"There is one new financial result announcement in stock number \" + Stocks[i] + \". Please see the link below.\" + \"\\n\" + \"http://www.aastocks.com\"+ Stock_Link + \"\\n\\n\" + \"Regards\" + \"\\n\" + \"Alpha Quant\"))  #郵件內容\n",
    "                    with smtplib.SMTP(host=\"smtp.gmail.com\", port=\"587\") as smtp:  \n",
    "                        try:\n",
    "                            smtp.ehlo()  \n",
    "                            smtp.starttls()  \n",
    "                            smtp.login(\"Please Fill in the Sender Email Address\", \"Please Fill in your Email Password\")  # Login the account\n",
    "                            smtp.send_message(content)  # send email\n",
    "                            print(\"Complete!\" +\"\\n\")\n",
    "                            Stock_Changed.append(Stocks[i])\n",
    "                        except Exception as e:\n",
    "                            print(\"error\" +\"\\n\" )\n",
    "                    time.sleep(10)\n",
    "                    continue\n",
    "            \n",
    "            # To handle exceptions\n",
    "            except Exception as e:\n",
    "                print(\"error\")\n",
    "\n"
   ]
  },
  {
   "cell_type": "code",
   "execution_count": null,
   "metadata": {},
   "outputs": [],
   "source": []
  }
 ],
 "metadata": {
  "interpreter": {
   "hash": "6244bdefb9309771a473903cae20a1c59df669f444c606104dab702f33fedb4c"
  },
  "kernelspec": {
   "display_name": "Python 3",
   "language": "python",
   "name": "python3"
  },
  "language_info": {
   "codemirror_mode": {
    "name": "ipython",
    "version": 3
   },
   "file_extension": ".py",
   "mimetype": "text/x-python",
   "name": "python",
   "nbconvert_exporter": "python",
   "pygments_lexer": "ipython3",
   "version": "3.8.5"
  }
 },
 "nbformat": 4,
 "nbformat_minor": 2
}
